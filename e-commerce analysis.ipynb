{
 "cells": [
  {
   "cell_type": "markdown",
   "id": "c19d0302-e5af-4faf-93c6-1c06aa14ff25",
   "metadata": {},
   "source": [
    "# Build an AI Agent to analyze e-commerce patterns"
   ]
  },
  {
   "cell_type": "code",
   "execution_count": 1,
   "id": "e9d67fa2-b5f4-4689-a340-6e0e7ca80a72",
   "metadata": {},
   "outputs": [],
   "source": [
    "import pandas as pd\n",
    "import sqlalchemy\n",
    "from langchain.sql_database import SQLDatabase\n",
    "import contextlib\n",
    "from tempfile import TemporaryFile\n",
    "from tabulate import tabulate\n",
    "\n",
    "@contextlib.contextmanager\n",
    "def get_ecommerce_db():\n",
    "    with TemporaryFile(suffix=\".db\") as f:\n",
    "        # Read CSV\n",
    "        sales_data = pd.read_csv('data/sales_data.csv')\n",
    "        product_inventory = pd.read_csv('data/product_inventory.csv')\n",
    "        customer_purchase_history = pd.read_csv('data/customer_purchase_history.csv')\n",
    "\n",
    "        # Create SQL Engine\n",
    "        engine = sqlalchemy.create_engine(f\"sqlite:///{f.name}\")\n",
    "    \n",
    "        # Load data into SQL tables\n",
    "        sales_data.to_sql(\"sales_data\", con=engine, index=False, if_exists=\"replace\")\n",
    "        product_inventory.to_sql(\"product_inventory\", con=engine, index=False, if_exists=\"replace\")\n",
    "        customer_purchase_history.to_sql(\"customer_purchase_history\", con=engine, index=False, if_exists=\"replace\")\n",
    "    \n",
    "        yield SQLDatabase.from_uri(f\"sqlite:///{f.name}\")\n",
    "        engine.dispose(close=True)"
   ]
  },
  {
   "cell_type": "code",
   "execution_count": 3,
   "id": "a2656547-347f-4757-b1fe-97973d5fcb96",
   "metadata": {},
   "outputs": [
    {
     "name": "stdout",
     "output_type": "stream",
     "text": [
      "Number of pages: 1\n",
      "Number of splits: 4\n"
     ]
    },
    {
     "data": {
      "application/vnd.jupyter.widget-view+json": {
       "model_id": "deb4b8a2f5ff4d88bc3e89e53cb0ebf6",
       "version_major": 2,
       "version_minor": 0
      },
      "text/plain": [
       "Creating embeddings please wait...:   0%|          | 0/4 [00:00<?, ?it/s]"
      ]
     },
     "metadata": {},
     "output_type": "display_data"
    }
   ],
   "source": [
    "from langchain_community.document_loaders import TextLoader\n",
    "from langchain_text_splitters import RecursiveCharacterTextSplitter\n",
    "from tqdm.autonotebook import tqdm, trange\n",
    "from pymilvus import MilvusClient\n",
    "from langchain_huggingface import HuggingFaceEmbeddings\n",
    "\n",
    "def rag_load(collection_name) -> MilvusClient:\n",
    "    loader = TextLoader('data/reviews.txt')\n",
    "    docs = loader.load()\n",
    "    print(\"Number of pages:\", len(docs))\n",
    "    text_splitter = RecursiveCharacterTextSplitter(chunk_size=1000, chunk_overlap=200, is_separator_regex = False)\n",
    "    splits = text_splitter.split_documents(docs)\n",
    "    print(\"Number of splits:\", len(splits))\n",
    "    milvus_client = MilvusClient(\"./milvus_rag.db\")\n",
    "    if milvus_client.has_collection(collection_name):\n",
    "        milvus_client.drop_collection(collection_name)\n",
    "    milvus_client.create_collection(\n",
    "        collection_name=collection_name,\n",
    "        dimension=768,\n",
    "        metric_type=\"IP\",  # Inner product distance\n",
    "        consistency_level=\"Strong\",  # Strong consistency level\n",
    "    )\n",
    "    data = []\n",
    "    for i, line in enumerate(tqdm(splits, desc=\"Creating embeddings please wait...\")):\n",
    "        data.append({\"id\": i, \"vector\": embeddings.embed_query(line.page_content), \"text\": line.page_content})\n",
    "    milvus_client.insert(collection_name=collection_name, data=data)\n",
    "    return milvus_client\n",
    "\n",
    "def rag_retriever(query: str) -> str:\n",
    "    result = \"\"\n",
    "    search_res = milvus_client.search(\n",
    "        collection_name=collection_name,\n",
    "        data=[\n",
    "            embeddings.embed_query(query)\n",
    "        ],\n",
    "        limit=2,\n",
    "        search_params={\"metric_type\": \"IP\", \"params\": {}},\n",
    "        output_fields=[\"text\"],\n",
    "    )\n",
    "    retrieved_lines_with_distances = [(res[\"entity\"][\"text\"], res[\"distance\"]) for res in search_res[0]]\n",
    "    for item in retrieved_lines_with_distances:\n",
    "        result += \"[Document]\\n\"\n",
    "        result += item[0] + \"\\n\"\n",
    "        result += \"[End]\\n\\n\"\n",
    "    return result.strip()\n",
    "\n",
    "embeddings = HuggingFaceEmbeddings()\n",
    "collection_name = 'my_rag_collection'\n",
    "milvus_client = rag_load(collection_name)"
   ]
  },
  {
   "cell_type": "code",
   "execution_count": null,
   "id": "ba8bad8e-1648-43f6-a098-841fec0b0633",
   "metadata": {},
   "outputs": [],
   "source": [
    "import os\n",
    "\n",
    "os.environ[\"WX_URL\"] = \"https://us-south.ml.cloud.ibm.com\"\n",
    "os.environ[\"WX_PROJECT_ID\"] = \"xxxx-xxxx-xxxx-xxxx\"\n",
    "os.environ[\"WX_API_KEY\"] = \"<your-ibmcloud-api-key>\""
   ]
  },
  {
   "cell_type": "code",
   "execution_count": 5,
   "id": "33683e57-f9cb-43f3-bb76-a01753c63589",
   "metadata": {},
   "outputs": [
    {
     "name": "stdout",
     "output_type": "stream",
     "text": [
      "\n",
      "\n",
      "Generative AI is a type of artificial intelligence that can create new content, such as images, music, or text. It learns patterns in data and uses that learning to generate new, likely examples. Examples include DALL-E for images and ChatGPT for text.\n"
     ]
    }
   ],
   "source": [
    "import os\n",
    "from ibm_watsonx_ai.metanames import GenTextParamsMetaNames\n",
    "from langchain_ibm import WatsonxLLM\n",
    "\n",
    "def initialize_watsonx_llm():\n",
    "    parameters = {\n",
    "        GenTextParamsMetaNames.MAX_NEW_TOKENS: 250,\n",
    "        GenTextParamsMetaNames.MIN_NEW_TOKENS: 20,\n",
    "        GenTextParamsMetaNames.DECODING_METHOD: 'greedy',\n",
    "    }\n",
    "    llm = WatsonxLLM(\n",
    "        url=os.environ[\"WX_URL\"],\n",
    "        apikey=os.environ[\"WX_PROJECT_ID\"],\n",
    "        project_id=os.environ[\"WX_API_KEY\"],\n",
    "        model_id=\"mistralai/mistral-large\",\n",
    "        params=parameters\n",
    "    )\n",
    "    response = llm.invoke('What is a generative AI? Respond concisely.')\n",
    "    print(response)\n",
    "    return llm\n",
    "\n",
    "llm = initialize_watsonx_llm()"
   ]
  },
  {
   "cell_type": "code",
   "execution_count": 6,
   "id": "16c6953e-c0ec-4b69-a072-2b9c69b3f4d9",
   "metadata": {},
   "outputs": [],
   "source": [
    "from langchain.prompts import ChatPromptTemplate\n",
    "from langchain.prompts.chat import MessagesPlaceholder"
   ]
  },
  {
   "cell_type": "code",
   "execution_count": 7,
   "id": "bcc4e4f6-a8c1-4ec6-bf8d-c6e2cbd09bcb",
   "metadata": {},
   "outputs": [],
   "source": [
    "system_prompt = \"\"\"Respond to the human as helpfully and accurately as possible. You have access to the following tools:\n",
    "{tools}\n",
    "Use a json blob to specify a tool by providing an action key (tool name) and an action_input key (tool input).\n",
    "Valid \"action\" values: \"Final Answer\" or {tool_names}\n",
    "Provide only ONE action per $JSON_BLOB, as shown:\n",
    "```\n",
    "{{\n",
    "  \"action\": $TOOL_NAME,\n",
    "  \"action_input\": $INPUT\n",
    "}}\n",
    "```\n",
    "Follow this format:\n",
    "Question: input question to answer\n",
    "Thought: consider previous and subsequent steps\n",
    "Action:\n",
    "```\n",
    "$JSON_BLOB\n",
    "```\n",
    "Observation: action result\n",
    "... (repeat Thought/Action/Observation N times)\n",
    "Thought: I know what to respond\n",
    "Action:\n",
    "```\n",
    "{{\n",
    "  \"action\": \"Final Answer\",\n",
    "  \"action_input\": \"Final response to human\"\n",
    "}}\n",
    "Begin! Reminder to ALWAYS respond with a valid json blob of a single action.\n",
    "Respond directly if appropriate. Format is Action:```$JSON_BLOB```then Observation.\n",
    "Reminder to ALWAYS respond with a valid JSON blob of a single action. Use tools only if necessary.\n",
    "Reminder to ALWAYS list the available tables before executing any SQL query on a table.\n",
    "Reminder to ALWAYS check for relationship between tables if column name is not found.\n",
    "\"\"\"\n",
    "\n",
    "user_prompt = \"\"\"{input}\n",
    "{agent_scratchpad}\n",
    "(reminder to respond in a JSON blob no matter what)\"\"\"\n",
    "\n",
    "prompt = ChatPromptTemplate.from_messages(\n",
    "    [\n",
    "        (\n",
    "            \"system\", system_prompt\n",
    "        ),\n",
    "        MessagesPlaceholder(variable_name=\"chat_history\", optional=True),\n",
    "        (\"user\", user_prompt),\n",
    "    ]\n",
    ")"
   ]
  },
  {
   "cell_type": "code",
   "execution_count": 8,
   "id": "a1c6cc91-1637-467e-aee0-e4490a832996",
   "metadata": {},
   "outputs": [],
   "source": [
    "from langchain.agents import tool\n",
    "from langchain.tools import Tool\n",
    "\n",
    "@tool(\"milvus_retriever\")\n",
    "def milvus_retriever(query: str) -> str:\n",
    "    \"\"\"\n",
    "    Returns the matching occurance of the query from the vectorstore.\n",
    "\n",
    "    Args:\n",
    "        query: The query string to match in the vectorstore.\n",
    "\n",
    "    Returns:\n",
    "        str: Nearest occurances of the query string.\n",
    "    \"\"\"\n",
    "    formatted_response = rag_retriever(query)\n",
    "    \n",
    "    return formatted_response\n",
    "\n",
    "rag_tool = Tool(\n",
    "    name=\"milvus_retriever\",\n",
    "    func=milvus_retriever,\n",
    "    description=\"Search for information in the vector database.\",\n",
    ")"
   ]
  },
  {
   "cell_type": "code",
   "execution_count": 9,
   "id": "795f970a-b643-4e83-acfa-c9300b88b044",
   "metadata": {},
   "outputs": [],
   "source": [
    "from langchain_community.agent_toolkits import SQLDatabaseToolkit\n",
    "\n",
    "with get_ecommerce_db() as db:\n",
    "    sql_toolkit = SQLDatabaseToolkit(db=db, llm=llm)\n",
    "    tools_chat = sql_toolkit.get_tools()\n",
    "\n",
    "tools_chat.append(rag_tool) # This will be all the tools that you need for your AI Agent"
   ]
  },
  {
   "cell_type": "code",
   "execution_count": 10,
   "id": "4aa5dbe9-0817-41cb-b2f1-2389875ee986",
   "metadata": {},
   "outputs": [],
   "source": [
    "from langchain.agents.output_parsers import JSONAgentOutputParser\n",
    "from langchain_core.agents import AgentAction, AgentFinish\n",
    "\n",
    "class CustomJSONAgentOutputParser(JSONAgentOutputParser):\n",
    "    def parse(self, text: str) -> AgentAction | AgentFinish:\n",
    "        i = text.find(\"{\")\n",
    "\n",
    "        # Sometimes model may return additional tokens before json blob\n",
    "        text = text[i:]\n",
    "        if \"```\" not in text:\n",
    "            text = \"\\n```\\n\" + text\n",
    "        return super().parse(text + \"\\n```\\nObservation:\")"
   ]
  },
  {
   "cell_type": "code",
   "execution_count": 11,
   "id": "91b4345c-ec3f-48ad-9dd1-02d8f1d2cc29",
   "metadata": {},
   "outputs": [],
   "source": [
    "from langchain_core.runnables import RunnablePassthrough\n",
    "from langchain.agents import AgentExecutor\n",
    "from langchain.tools.render import render_text_description\n",
    "from langchain.agents.format_scratchpad import format_log_to_str\n",
    "\n",
    "prompt_chat = prompt.partial(\n",
    "    tools=render_text_description(list(tools_chat)),\n",
    "    tool_names=\", \".join([t.name for t in tools_chat]),\n",
    ")\n",
    "\n",
    "# Setting stop sequence for LLM\n",
    "llm_with_stop = llm.bind(stop=[\"}\\n\"])\n",
    "\n",
    "agent_chat = (\n",
    "    RunnablePassthrough.assign(\n",
    "        agent_scratchpad=lambda x: format_log_to_str(x[\"intermediate_steps\"]),\n",
    "    )\n",
    "    | prompt_chat\n",
    "    | llm_with_stop\n",
    "    | CustomJSONAgentOutputParser()\n",
    ")\n",
    "\n",
    "agent_executor_chat = AgentExecutor(\n",
    "    agent=agent_chat, tools=tools_chat, verbose=True, handle_parsing_errors=True, return_intermediate_steps=True\n",
    ")"
   ]
  },
  {
   "cell_type": "code",
   "execution_count": 12,
   "id": "bbe14f7e-70d6-4438-876e-e46d9eeaa1f0",
   "metadata": {},
   "outputs": [],
   "source": [
    "from langchain_community.chat_message_histories import ChatMessageHistory\n",
    "from langchain_core.runnables.history import RunnableWithMessageHistory\n",
    "\n",
    "message_history = ChatMessageHistory()\n",
    "\n",
    "agent_with_chat_history = RunnableWithMessageHistory(\n",
    "    agent_executor_chat,\n",
    "    get_session_history=lambda session_id: message_history,\n",
    "    input_messages_key=\"input\",\n",
    "    history_messages_key=\"chat_history\",\n",
    ")"
   ]
  },
  {
   "cell_type": "code",
   "execution_count": 13,
   "id": "d0b761c6-d25a-44d4-a581-9cc4a7c61253",
   "metadata": {},
   "outputs": [],
   "source": [
    "import time \n",
    "\n",
    "def agentExecutorWithExecTime(input_text: str, session_id: str) -> dict:\n",
    "    start_time = time.time()\n",
    "    answer = agent_with_chat_history.invoke(\n",
    "        {\"input\": input_text},\n",
    "        config={\"configurable\": {\"session_id\": session_id}},\n",
    "    )\n",
    "    end_time = time.time()\n",
    "    execution_time = end_time - start_time\n",
    "    return {\n",
    "        \"input\": answer['input'],\n",
    "        \"llm_reasoning\": answer['intermediate_steps'],\n",
    "        \"chat_history\": answer['chat_history'],\n",
    "        \"output\": answer['output'],\n",
    "        \"execution_time\": f'{round(execution_time, 2)} sec'\n",
    "    }"
   ]
  },
  {
   "cell_type": "code",
   "execution_count": 14,
   "id": "928340c6-507d-4609-b931-e4b64cb69287",
   "metadata": {
    "scrolled": true
   },
   "outputs": [
    {
     "name": "stdout",
     "output_type": "stream",
     "text": [
      "\n",
      "\n",
      "\u001b[1m> Entering new AgentExecutor chain...\u001b[0m\n",
      "\u001b[32;1m\u001b[1;3m\n",
      "```\n",
      "{\n",
      "  \"action\": \"sql_db_list_tables\",\n",
      "  \"action_input\": \"\"\n",
      "}\n",
      "\n",
      "```\n",
      "Observation:\u001b[0m\u001b[38;5;200m\u001b[1;3mcustomer_purchase_history, product_inventory, sales_data\u001b[0m\u001b[32;1m\u001b[1;3m\n",
      "```\n",
      "{\n",
      "  \"action\": \"sql_db_schema\",\n",
      "  \"action_input\": \"customer_purchase_history, product_inventory, sales_data\"\n",
      "}\n",
      "\n",
      "```\n",
      "Observation:\u001b[0m\u001b[33;1m\u001b[1;3m\n",
      "CREATE TABLE customer_purchase_history (\n",
      "\t\"CustomerID\" BIGINT, \n",
      "\t\"CustomerName\" TEXT, \n",
      "\t\"ProductID\" TEXT, \n",
      "\t\"PurchaseDate\" TEXT, \n",
      "\t\"Quantity\" BIGINT\n",
      ")\n",
      "\n",
      "/*\n",
      "3 rows from customer_purchase_history table:\n",
      "CustomerID\tCustomerName\tProductID\tPurchaseDate\tQuantity\n",
      "101\tAlice\tP001\t2023-06-01\t2\n",
      "102\tBob\tP002\t2023-06-02\t1\n",
      "103\tCharlie\tP003\t2023-06-03\t1\n",
      "*/\n",
      "\n",
      "\n",
      "CREATE TABLE product_inventory (\n",
      "\t\"ProductID\" TEXT, \n",
      "\t\"ProductName\" TEXT, \n",
      "\t\"Category\" TEXT, \n",
      "\t\"Stock\" BIGINT, \n",
      "\t\"Price\" FLOAT\n",
      ")\n",
      "\n",
      "/*\n",
      "3 rows from product_inventory table:\n",
      "ProductID\tProductName\tCategory\tStock\tPrice\n",
      "P001\tiPhone\tPhones\t50\t999.99\n",
      "P002\tiPad\tTablets\t100\t329.99\n",
      "P003\tMac\tComputers\t30\t1199.99\n",
      "*/\n",
      "\n",
      "\n",
      "CREATE TABLE sales_data (\n",
      "\t\"OrderID\" BIGINT, \n",
      "\t\"CustomerID\" BIGINT, \n",
      "\t\"ProductID\" TEXT, \n",
      "\t\"Quantity\" BIGINT, \n",
      "\t\"SaleDate\" TEXT, \n",
      "\t\"TotalPrice\" FLOAT\n",
      ")\n",
      "\n",
      "/*\n",
      "3 rows from sales_data table:\n",
      "OrderID\tCustomerID\tProductID\tQuantity\tSaleDate\tTotalPrice\n",
      "1\t101\tP001\t2\t2023-06-01\t1999.98\n",
      "2\t102\tP002\t1\t2023-06-02\t329.99\n",
      "3\t103\tP003\t1\t2023-06-03\t1199.99\n",
      "*/\u001b[0m\u001b[32;1m\u001b[1;3m\n",
      "```\n",
      "{\n",
      "  \"action\": \"sql_db_query_checker\",\n",
      "  \"action_input\": \"SELECT ProductName FROM product_inventory WHERE ProductID IN (SELECT ProductID FROM customer_purchase_history WHERE CustomerName = 'Alice')\"\n",
      "}\n",
      "\n",
      "```\n",
      "Observation:\u001b[0m\u001b[36;1m\u001b[1;3m SELECT ProductName FROM product_inventory WHERE ProductID IN (SELECT ProductID FROM customer_purchase_history WHERE CustomerName = 'Alice')\u001b[0m\u001b[32;1m\u001b[1;3m\n",
      "```\n",
      "{\n",
      "  \"action\": \"sql_db_query\",\n",
      "  \"action_input\": \"SELECT ProductName FROM product_inventory WHERE ProductID IN (SELECT ProductID FROM customer_purchase_history WHERE CustomerName = 'Alice')\"\n",
      "}\n",
      "\n",
      "```\n",
      "Observation:\u001b[0m\u001b[36;1m\u001b[1;3m[('iPhone',), ('AirPods',)]\u001b[0m\u001b[32;1m\u001b[1;3m\n",
      "```\n",
      "{\n",
      "  \"action\": \"Final Answer\",\n",
      "  \"action_input\": \"Alice bought iPhone and AirPods.\"\n",
      "}\n",
      "\n",
      "```\n",
      "Observation:\u001b[0m\n",
      "\n",
      "\u001b[1m> Finished chain.\u001b[0m\n"
     ]
    }
   ],
   "source": [
    "answer1 = agentExecutorWithExecTime(\"Which product did Alice buy?\", \"session1\")"
   ]
  },
  {
   "cell_type": "code",
   "execution_count": 15,
   "id": "98d67871-b6c8-4200-9206-a9c804482698",
   "metadata": {},
   "outputs": [
    {
     "name": "stdout",
     "output_type": "stream",
     "text": [
      "Alice bought iPhone and AirPods.\n"
     ]
    }
   ],
   "source": [
    "print(answer1['output'])"
   ]
  },
  {
   "cell_type": "code",
   "execution_count": 16,
   "id": "0e1ed1f1-6589-4ea8-82fd-383da6b65582",
   "metadata": {},
   "outputs": [
    {
     "name": "stdout",
     "output_type": "stream",
     "text": [
      "10.16 sec\n"
     ]
    }
   ],
   "source": [
    "print(answer1['execution_time'])"
   ]
  },
  {
   "cell_type": "code",
   "execution_count": 17,
   "id": "0a5ade98-216e-4305-b029-370cb4023fd9",
   "metadata": {
    "scrolled": true
   },
   "outputs": [
    {
     "name": "stdout",
     "output_type": "stream",
     "text": [
      "\n",
      "\n",
      "\u001b[1m> Entering new AgentExecutor chain...\u001b[0m\n",
      "\u001b[32;1m\u001b[1;3m\n",
      "```\n",
      "{\n",
      "  \"action\": \"milvus_retriever\",\n",
      "  \"action_input\": \"Alice's reaction to iPhone and AirPods\"\n",
      "}\n",
      "\n",
      "```\n",
      "Observation:\u001b[0m\u001b[33;1m\u001b[1;3m[Document]\n",
      "MentionID: M003\n",
      "Text: \"Just got the new Mac, and it's amazing! #apple #computers\"\n",
      "ProductID: P003\n",
      "Platform: Instagram\n",
      "Name: Charlie\n",
      "\n",
      "MentionID: M004\n",
      "Text: \"The AirPods have great sound quality. #apple #accessories\"\n",
      "ProductID: P004\n",
      "Platform: Instagram\n",
      "Name: Alice\n",
      "\n",
      "MentionID: M005\n",
      "Text: \"The new iPhone is impressive. Can't wait to explore all its features. #apple\"\n",
      "ProductID: P001\n",
      "Platform: Twitter\n",
      "Name: David\n",
      "\n",
      "MentionID: M006\n",
      "Text: \"iPad is my go-to device for reading and browsing. #apple #ipad\"\n",
      "ProductID: P002\n",
      "Platform: Facebook\n",
      "Name: Frank\n",
      "\n",
      "MentionID: M007\n",
      "Text: \"My new Mac is a powerhouse. Perfect for my design work. #apple #mac\"\n",
      "ProductID: P003\n",
      "Platform: Instagram\n",
      "Name: Charlie\n",
      "\n",
      "MentionID: M008\n",
      "Text: \"The AirPods' noise cancellation is top-notch. #apple #airpods\"\n",
      "ProductID: P004\n",
      "Platform: Twitter\n",
      "Name: Alice\n",
      "\n",
      "MentionID: M009\n",
      "Text: \"The iPhone camera is stunning. Captures amazing photos. #apple #iphone\"\n",
      "ProductID: P001\n",
      "Platform: Twitter\n",
      "Name: Eve\n",
      "[End]\n",
      "\n",
      "[Document]\n",
      "## Customer Reviews\n",
      "\n",
      "ReviewID: R001\n",
      "Text: \"The iPhone is fantastic! Great build quality and very useful.\"\n",
      "ProductID: P001\n",
      "Sentiment: Positive\n",
      "Name: Alice\n",
      "\n",
      "ReviewID: R002\n",
      "Text: \"The iPad is okay, but a bit overpriced for what it offers.\"\n",
      "ProductID: P002\n",
      "Sentiment: Neutral\n",
      "Name: Bob\n",
      "\n",
      "ReviewID: R003\n",
      "Text: \"The Mac exceeded my expectations. Highly recommend it!\"\n",
      "ProductID: P003\n",
      "Sentiment: Positive\n",
      "Name: Charlie\n",
      "\n",
      "ReviewID: R004\n",
      "Text: \"The AirPods are not as good as I expected. They broke after a week.\"\n",
      "ProductID: P004\n",
      "Sentiment: Negative\n",
      "Name: Alice\n",
      "\n",
      "ReviewID: R005\n",
      "Text: \"The iPhone is great, but could be a bit cheaper.\"\n",
      "ProductID: P001\n",
      "Sentiment: Positive\n",
      "Name: David\n",
      "\n",
      "ReviewID: R006\n",
      "Text: \"The iPad is very useful for my daily tasks.\"\n",
      "ProductID: P002\n",
      "Sentiment: Positive\n",
      "Name: Bob\n",
      "\n",
      "ReviewID: R007\n",
      "Text: \"The Mac is simply the best computer I have ever used.\"\n",
      "ProductID: P003\n",
      "Sentiment: Positive\n",
      "Name: Charlie\n",
      "[End]\u001b[0m\u001b[32;1m\u001b[1;3m\n",
      "```\n",
      "{\n",
      "  \"action\": \"Final Answer\",\n",
      "  \"action_input\": \"Alice had a positive reaction to the iPhone, mentioning that it is fantastic with great build quality and very useful. However, she had a negative reaction to the AirPods, stating that they are not as good as she expected and broke after a week.\"\n",
      "}\n",
      "\n",
      "```\n",
      "Observation:\u001b[0m\n",
      "\n",
      "\u001b[1m> Finished chain.\u001b[0m\n"
     ]
    }
   ],
   "source": [
    "answer2 = agentExecutorWithExecTime(\"What was her reaction to those products?\", \"wx\")"
   ]
  },
  {
   "cell_type": "code",
   "execution_count": 18,
   "id": "e503cda5-42f3-44bf-afc3-7fd94f059dd6",
   "metadata": {},
   "outputs": [
    {
     "name": "stdout",
     "output_type": "stream",
     "text": [
      "Alice had a positive reaction to the iPhone, mentioning that it is fantastic with great build quality and very useful. However, she had a negative reaction to the AirPods, stating that they are not as good as she expected and broke after a week.\n"
     ]
    }
   ],
   "source": [
    "print(answer2['output'])"
   ]
  },
  {
   "cell_type": "code",
   "execution_count": 19,
   "id": "bec862e8-2e5b-4ca4-ae81-33a0516f7f29",
   "metadata": {},
   "outputs": [
    {
     "name": "stdout",
     "output_type": "stream",
     "text": [
      "4.12 sec\n"
     ]
    }
   ],
   "source": [
    "print(answer2['execution_time'])"
   ]
  },
  {
   "cell_type": "code",
   "execution_count": null,
   "id": "9345eb34-73e7-45c2-8582-1d871ae2a1a7",
   "metadata": {},
   "outputs": [],
   "source": []
  }
 ],
 "metadata": {
  "kernelspec": {
   "display_name": "langchain-watsonx",
   "language": "python",
   "name": "langchain-watsonx"
  },
  "language_info": {
   "codemirror_mode": {
    "name": "ipython",
    "version": 3
   },
   "file_extension": ".py",
   "mimetype": "text/x-python",
   "name": "python",
   "nbconvert_exporter": "python",
   "pygments_lexer": "ipython3",
   "version": "3.11.9"
  }
 },
 "nbformat": 4,
 "nbformat_minor": 5
}
